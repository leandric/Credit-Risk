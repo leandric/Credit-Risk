{
 "cells": [
  {
   "cell_type": "markdown",
   "id": "69f6ba88",
   "metadata": {},
   "source": [
    "# Aprovação de Credito com Regressão Logistica\n",
    "<h3>Author: Leandro S. Silva</h3>\n",
    "<ul>\n",
    "    <li>Linkdin: <a>https://www.linkedin.com/in/leandro-soares-11b010115/</a></li>\n",
    "    <li>Medium:<a></a></li>\n",
    "    <li></li>\n",
    "\n",
    "</ul>\n",
    "\n",
    "<h2> Resumo</h2>\n",
    "<p> Quando uma instituição financeira vai ceder crédito é necessário uma analise criteriosa para evitar os prejuizos decorrentes de 'maus pagadores', por tanto o sucesso deste tipo de negocio esta pricipalmente em conceder credito para uma maioria de clientes 'bons pagadores' e matendo baixo a o percentual dos maus, assim minimizando prejuizos e maximizando os lucros.</p>\n",
    "\n",
    "<h2>Base</h2>\n",
    "<p>Fonte: <a>https://www.kaggle.com/laotse/credit-risk-dataset</a><p>\n",
    "\n",
    "<p>O Dataset arquivo <b>credit_risk_dataset.csv</b> contém  32.581 fileiras e 12 colunas, sendo que cada fileira representa um cliente. As colunas são as seguintes:</p>\n",
    "\n",
    "Coluna|\tDescrição\n",
    "-----------|-------------\n",
    "person_age|\tIdade\n",
    "person_income|\tRenda anual\n",
    "personhomeownership|\tCasa própria\n",
    "personemplength|\tTempo de trabalho(Em Anos)\n",
    "loan_intent|\tInteção de empréstimo\n",
    "loan_grade|\tGrau do empréstimo\n",
    "loan_amnt|\tMontando do empréstimo\n",
    "loanintrate|\tInterest rate\n",
    "loan_status|\tStatus( 0 bom pagador, 1 mau pagador)\n",
    "loanpercentincome|\tRenda percentual\n",
    "cbpersondefaultonfile|\tPadrão histórico\n",
    "cbpresoncredhistlength|\tPeríodo do histórico de crédito\n",
    "\n",
    "<h2>Índice</h2>\n",
    "<ol start=\"0\" type=I>\n",
    "    <li>Import libraries</li>\n",
    "    <li>Load and info data</li>\n",
    "    <li>EDA</li>\n",
    "    <li>Tratamento da Base</li>\n",
    "    <li>Modeling the data\n",
    "        <ol type=a>\n",
    "            <li>Processing categorical columns</li>\n",
    "            <li>Scaler</li>\n",
    "            <li>Scaler</li>\n",
    "            <li>Scaler</li>\n",
    "            <li>Scaler</li>\n",
    "        </ol>\n",
    "    </li>\n",
    "    <li>Logistic regression</li>\n",
    "    <li>Tratamento da Base</li>\n",
    "    <li>Save the models</li>\n",
    "    <li>Conclusion</li>\n",
    "</ol>"
   ]
  },
  {
   "cell_type": "markdown",
   "id": "bc4fb43c",
   "metadata": {},
   "source": [
    "# 0.  Import libraries."
   ]
  },
  {
   "cell_type": "code",
   "execution_count": 1,
   "id": "ea99b2dc",
   "metadata": {},
   "outputs": [
    {
     "name": "stdout",
     "output_type": "stream",
     "text": [
      "Version Python: 3.8.5\n"
     ]
    }
   ],
   "source": [
    "# Python version\n",
    "\n",
    "from platform import python_version\n",
    "\n",
    "print('Python version:', python_version())"
   ]
  },
  {
   "cell_type": "code",
   "execution_count": 2,
   "id": "4ebe02f8",
   "metadata": {},
   "outputs": [],
   "source": [
    "# Import libraries\n",
    "\n",
    "#Data Manipulation\n",
    "import pandas as pd \n",
    "import numpy as np \n",
    "\n",
    "# Data Visualization\n",
    "import seaborn               as sns\n",
    "import matplotlib.pyplot     as plt\n",
    "import plotly\n",
    "\n",
    "#Preprocessing\n",
    "from imblearn.over_sampling  import SMOTE\n",
    "from imblearn.under_sampling import RandomUnderSampler\n",
    "from sklearn.preprocessing   import StandardScaler, LabelEncoder, OneHotEncoder\n",
    "\n",
    "# learn\n",
    "from sklearn.model_selection import train_test_split\n",
    "from sklearn.compose         import ColumnTransformer\n",
    "from sklearn.linear_model    import LogisticRegression\n",
    "from sklearn.metrics         import accuracy_score, confusion_matrix, classification_report\n",
    "\n",
    "import pickle #export\n",
    "\n",
    "# Warnings remove \n",
    "import warnings\n",
    "warnings.filterwarnings(\"ignore\")"
   ]
  },
  {
   "cell_type": "markdown",
   "id": "68a0eed1",
   "metadata": {},
   "source": [
    "# 1. Load and info data"
   ]
  },
  {
   "cell_type": "code",
   "execution_count": 3,
   "id": "e2b4baae",
   "metadata": {},
   "outputs": [],
   "source": [
    "df = pd.read_csv('archive/credit_risk_dataset.csv')"
   ]
  },
  {
   "cell_type": "code",
   "execution_count": 4,
   "id": "6346c7eb",
   "metadata": {},
   "outputs": [
    {
     "data": {
      "text/html": [
       "<div>\n",
       "<style scoped>\n",
       "    .dataframe tbody tr th:only-of-type {\n",
       "        vertical-align: middle;\n",
       "    }\n",
       "\n",
       "    .dataframe tbody tr th {\n",
       "        vertical-align: top;\n",
       "    }\n",
       "\n",
       "    .dataframe thead th {\n",
       "        text-align: right;\n",
       "    }\n",
       "</style>\n",
       "<table border=\"1\" class=\"dataframe\">\n",
       "  <thead>\n",
       "    <tr style=\"text-align: right;\">\n",
       "      <th></th>\n",
       "      <th>person_age</th>\n",
       "      <th>person_income</th>\n",
       "      <th>person_home_ownership</th>\n",
       "      <th>person_emp_length</th>\n",
       "      <th>loan_intent</th>\n",
       "      <th>loan_grade</th>\n",
       "      <th>loan_amnt</th>\n",
       "      <th>loan_int_rate</th>\n",
       "      <th>loan_status</th>\n",
       "      <th>loan_percent_income</th>\n",
       "      <th>cb_person_default_on_file</th>\n",
       "      <th>cb_person_cred_hist_length</th>\n",
       "    </tr>\n",
       "  </thead>\n",
       "  <tbody>\n",
       "    <tr>\n",
       "      <th>0</th>\n",
       "      <td>22</td>\n",
       "      <td>59000</td>\n",
       "      <td>RENT</td>\n",
       "      <td>123.0</td>\n",
       "      <td>PERSONAL</td>\n",
       "      <td>D</td>\n",
       "      <td>35000</td>\n",
       "      <td>16.02</td>\n",
       "      <td>1</td>\n",
       "      <td>0.59</td>\n",
       "      <td>Y</td>\n",
       "      <td>3</td>\n",
       "    </tr>\n",
       "    <tr>\n",
       "      <th>1</th>\n",
       "      <td>21</td>\n",
       "      <td>9600</td>\n",
       "      <td>OWN</td>\n",
       "      <td>5.0</td>\n",
       "      <td>EDUCATION</td>\n",
       "      <td>B</td>\n",
       "      <td>1000</td>\n",
       "      <td>11.14</td>\n",
       "      <td>0</td>\n",
       "      <td>0.10</td>\n",
       "      <td>N</td>\n",
       "      <td>2</td>\n",
       "    </tr>\n",
       "    <tr>\n",
       "      <th>2</th>\n",
       "      <td>25</td>\n",
       "      <td>9600</td>\n",
       "      <td>MORTGAGE</td>\n",
       "      <td>1.0</td>\n",
       "      <td>MEDICAL</td>\n",
       "      <td>C</td>\n",
       "      <td>5500</td>\n",
       "      <td>12.87</td>\n",
       "      <td>1</td>\n",
       "      <td>0.57</td>\n",
       "      <td>N</td>\n",
       "      <td>3</td>\n",
       "    </tr>\n",
       "    <tr>\n",
       "      <th>3</th>\n",
       "      <td>23</td>\n",
       "      <td>65500</td>\n",
       "      <td>RENT</td>\n",
       "      <td>4.0</td>\n",
       "      <td>MEDICAL</td>\n",
       "      <td>C</td>\n",
       "      <td>35000</td>\n",
       "      <td>15.23</td>\n",
       "      <td>1</td>\n",
       "      <td>0.53</td>\n",
       "      <td>N</td>\n",
       "      <td>2</td>\n",
       "    </tr>\n",
       "    <tr>\n",
       "      <th>4</th>\n",
       "      <td>24</td>\n",
       "      <td>54400</td>\n",
       "      <td>RENT</td>\n",
       "      <td>8.0</td>\n",
       "      <td>MEDICAL</td>\n",
       "      <td>C</td>\n",
       "      <td>35000</td>\n",
       "      <td>14.27</td>\n",
       "      <td>1</td>\n",
       "      <td>0.55</td>\n",
       "      <td>Y</td>\n",
       "      <td>4</td>\n",
       "    </tr>\n",
       "  </tbody>\n",
       "</table>\n",
       "</div>"
      ],
      "text/plain": [
       "   person_age  person_income person_home_ownership  person_emp_length  \\\n",
       "0          22          59000                  RENT              123.0   \n",
       "1          21           9600                   OWN                5.0   \n",
       "2          25           9600              MORTGAGE                1.0   \n",
       "3          23          65500                  RENT                4.0   \n",
       "4          24          54400                  RENT                8.0   \n",
       "\n",
       "  loan_intent loan_grade  loan_amnt  loan_int_rate  loan_status  \\\n",
       "0    PERSONAL          D      35000          16.02            1   \n",
       "1   EDUCATION          B       1000          11.14            0   \n",
       "2     MEDICAL          C       5500          12.87            1   \n",
       "3     MEDICAL          C      35000          15.23            1   \n",
       "4     MEDICAL          C      35000          14.27            1   \n",
       "\n",
       "   loan_percent_income cb_person_default_on_file  cb_person_cred_hist_length  \n",
       "0                 0.59                         Y                           3  \n",
       "1                 0.10                         N                           2  \n",
       "2                 0.57                         N                           3  \n",
       "3                 0.53                         N                           2  \n",
       "4                 0.55                         Y                           4  "
      ]
     },
     "execution_count": 4,
     "metadata": {},
     "output_type": "execute_result"
    }
   ],
   "source": [
    "#first 5 rows\n",
    "df.head()"
   ]
  },
  {
   "cell_type": "code",
   "execution_count": 5,
   "id": "7ea42c9e",
   "metadata": {},
   "outputs": [
    {
     "data": {
      "text/html": [
       "<div>\n",
       "<style scoped>\n",
       "    .dataframe tbody tr th:only-of-type {\n",
       "        vertical-align: middle;\n",
       "    }\n",
       "\n",
       "    .dataframe tbody tr th {\n",
       "        vertical-align: top;\n",
       "    }\n",
       "\n",
       "    .dataframe thead th {\n",
       "        text-align: right;\n",
       "    }\n",
       "</style>\n",
       "<table border=\"1\" class=\"dataframe\">\n",
       "  <thead>\n",
       "    <tr style=\"text-align: right;\">\n",
       "      <th></th>\n",
       "      <th>person_age</th>\n",
       "      <th>person_income</th>\n",
       "      <th>person_home_ownership</th>\n",
       "      <th>person_emp_length</th>\n",
       "      <th>loan_intent</th>\n",
       "      <th>loan_grade</th>\n",
       "      <th>loan_amnt</th>\n",
       "      <th>loan_int_rate</th>\n",
       "      <th>loan_status</th>\n",
       "      <th>loan_percent_income</th>\n",
       "      <th>cb_person_default_on_file</th>\n",
       "      <th>cb_person_cred_hist_length</th>\n",
       "    </tr>\n",
       "  </thead>\n",
       "  <tbody>\n",
       "    <tr>\n",
       "      <th>32576</th>\n",
       "      <td>57</td>\n",
       "      <td>53000</td>\n",
       "      <td>MORTGAGE</td>\n",
       "      <td>1.0</td>\n",
       "      <td>PERSONAL</td>\n",
       "      <td>C</td>\n",
       "      <td>5800</td>\n",
       "      <td>13.16</td>\n",
       "      <td>0</td>\n",
       "      <td>0.11</td>\n",
       "      <td>N</td>\n",
       "      <td>30</td>\n",
       "    </tr>\n",
       "    <tr>\n",
       "      <th>32577</th>\n",
       "      <td>54</td>\n",
       "      <td>120000</td>\n",
       "      <td>MORTGAGE</td>\n",
       "      <td>4.0</td>\n",
       "      <td>PERSONAL</td>\n",
       "      <td>A</td>\n",
       "      <td>17625</td>\n",
       "      <td>7.49</td>\n",
       "      <td>0</td>\n",
       "      <td>0.15</td>\n",
       "      <td>N</td>\n",
       "      <td>19</td>\n",
       "    </tr>\n",
       "    <tr>\n",
       "      <th>32578</th>\n",
       "      <td>65</td>\n",
       "      <td>76000</td>\n",
       "      <td>RENT</td>\n",
       "      <td>3.0</td>\n",
       "      <td>HOMEIMPROVEMENT</td>\n",
       "      <td>B</td>\n",
       "      <td>35000</td>\n",
       "      <td>10.99</td>\n",
       "      <td>1</td>\n",
       "      <td>0.46</td>\n",
       "      <td>N</td>\n",
       "      <td>28</td>\n",
       "    </tr>\n",
       "    <tr>\n",
       "      <th>32579</th>\n",
       "      <td>56</td>\n",
       "      <td>150000</td>\n",
       "      <td>MORTGAGE</td>\n",
       "      <td>5.0</td>\n",
       "      <td>PERSONAL</td>\n",
       "      <td>B</td>\n",
       "      <td>15000</td>\n",
       "      <td>11.48</td>\n",
       "      <td>0</td>\n",
       "      <td>0.10</td>\n",
       "      <td>N</td>\n",
       "      <td>26</td>\n",
       "    </tr>\n",
       "    <tr>\n",
       "      <th>32580</th>\n",
       "      <td>66</td>\n",
       "      <td>42000</td>\n",
       "      <td>RENT</td>\n",
       "      <td>2.0</td>\n",
       "      <td>MEDICAL</td>\n",
       "      <td>B</td>\n",
       "      <td>6475</td>\n",
       "      <td>9.99</td>\n",
       "      <td>0</td>\n",
       "      <td>0.15</td>\n",
       "      <td>N</td>\n",
       "      <td>30</td>\n",
       "    </tr>\n",
       "  </tbody>\n",
       "</table>\n",
       "</div>"
      ],
      "text/plain": [
       "       person_age  person_income person_home_ownership  person_emp_length  \\\n",
       "32576          57          53000              MORTGAGE                1.0   \n",
       "32577          54         120000              MORTGAGE                4.0   \n",
       "32578          65          76000                  RENT                3.0   \n",
       "32579          56         150000              MORTGAGE                5.0   \n",
       "32580          66          42000                  RENT                2.0   \n",
       "\n",
       "           loan_intent loan_grade  loan_amnt  loan_int_rate  loan_status  \\\n",
       "32576         PERSONAL          C       5800          13.16            0   \n",
       "32577         PERSONAL          A      17625           7.49            0   \n",
       "32578  HOMEIMPROVEMENT          B      35000          10.99            1   \n",
       "32579         PERSONAL          B      15000          11.48            0   \n",
       "32580          MEDICAL          B       6475           9.99            0   \n",
       "\n",
       "       loan_percent_income cb_person_default_on_file  \\\n",
       "32576                 0.11                         N   \n",
       "32577                 0.15                         N   \n",
       "32578                 0.46                         N   \n",
       "32579                 0.10                         N   \n",
       "32580                 0.15                         N   \n",
       "\n",
       "       cb_person_cred_hist_length  \n",
       "32576                          30  \n",
       "32577                          19  \n",
       "32578                          28  \n",
       "32579                          26  \n",
       "32580                          30  "
      ]
     },
     "execution_count": 5,
     "metadata": {},
     "output_type": "execute_result"
    }
   ],
   "source": [
    "#last 5 rows\n",
    "df.tail()"
   ]
  },
  {
   "cell_type": "code",
   "execution_count": 6,
   "id": "20c472f8",
   "metadata": {},
   "outputs": [
    {
     "data": {
      "text/plain": [
       "(32581, 12)"
      ]
     },
     "execution_count": 6,
     "metadata": {},
     "output_type": "execute_result"
    }
   ],
   "source": [
    "#rows and columns\n",
    "df.shape"
   ]
  },
  {
   "cell_type": "code",
   "execution_count": 7,
   "id": "c8e4a292",
   "metadata": {},
   "outputs": [
    {
     "name": "stdout",
     "output_type": "stream",
     "text": [
      "<class 'pandas.core.frame.DataFrame'>\n",
      "RangeIndex: 32581 entries, 0 to 32580\n",
      "Data columns (total 12 columns):\n",
      " #   Column                      Non-Null Count  Dtype  \n",
      "---  ------                      --------------  -----  \n",
      " 0   person_age                  32581 non-null  int64  \n",
      " 1   person_income               32581 non-null  int64  \n",
      " 2   person_home_ownership       32581 non-null  object \n",
      " 3   person_emp_length           31686 non-null  float64\n",
      " 4   loan_intent                 32581 non-null  object \n",
      " 5   loan_grade                  32581 non-null  object \n",
      " 6   loan_amnt                   32581 non-null  int64  \n",
      " 7   loan_int_rate               29465 non-null  float64\n",
      " 8   loan_status                 32581 non-null  int64  \n",
      " 9   loan_percent_income         32581 non-null  float64\n",
      " 10  cb_person_default_on_file   32581 non-null  object \n",
      " 11  cb_person_cred_hist_length  32581 non-null  int64  \n",
      "dtypes: float64(3), int64(5), object(4)\n",
      "memory usage: 3.0+ MB\n"
     ]
    }
   ],
   "source": [
    "df.info()"
   ]
  },
  {
   "cell_type": "code",
   "execution_count": 8,
   "id": "0a56e06d",
   "metadata": {},
   "outputs": [
    {
     "data": {
      "text/plain": [
       "person_age                      int64\n",
       "person_income                   int64\n",
       "person_home_ownership          object\n",
       "person_emp_length             float64\n",
       "loan_intent                    object\n",
       "loan_grade                     object\n",
       "loan_amnt                       int64\n",
       "loan_int_rate                 float64\n",
       "loan_status                     int64\n",
       "loan_percent_income           float64\n",
       "cb_person_default_on_file      object\n",
       "cb_person_cred_hist_length      int64\n",
       "dtype: object"
      ]
     },
     "execution_count": 8,
     "metadata": {},
     "output_type": "execute_result"
    }
   ],
   "source": [
    "df.dtypes"
   ]
  },
  {
   "cell_type": "code",
   "execution_count": 9,
   "id": "2ffae24c",
   "metadata": {},
   "outputs": [
    {
     "name": "stdout",
     "output_type": "stream",
     "text": [
      "\n",
      "Missing values :   4011\n",
      "\n",
      "Unique values :  \n",
      " person_age                      58\n",
      "person_income                 4295\n",
      "person_home_ownership            4\n",
      "person_emp_length               36\n",
      "loan_intent                      6\n",
      "loan_grade                       7\n",
      "loan_amnt                      753\n",
      "loan_int_rate                  348\n",
      "loan_status                      2\n",
      "loan_percent_income             77\n",
      "cb_person_default_on_file        2\n",
      "cb_person_cred_hist_length      29\n",
      "dtype: int64\n"
     ]
    }
   ],
   "source": [
    "print(\"\\nMissing values :  \", df.isnull().sum().values.sum())\n",
    "print(\"\\nUnique values :  \\n\",df.nunique())"
   ]
  },
  {
   "cell_type": "code",
   "execution_count": 10,
   "id": "dfa233ef",
   "metadata": {},
   "outputs": [
    {
     "data": {
      "text/plain": [
       "person_age                       0\n",
       "person_income                    0\n",
       "person_home_ownership            0\n",
       "person_emp_length              895\n",
       "loan_intent                      0\n",
       "loan_grade                       0\n",
       "loan_amnt                        0\n",
       "loan_int_rate                 3116\n",
       "loan_status                      0\n",
       "loan_percent_income              0\n",
       "cb_person_default_on_file        0\n",
       "cb_person_cred_hist_length       0\n",
       "dtype: int64"
      ]
     },
     "execution_count": 10,
     "metadata": {},
     "output_type": "execute_result"
    }
   ],
   "source": [
    "#identifying blank values\n",
    "df.isnull().sum()"
   ]
  },
  {
   "cell_type": "markdown",
   "id": "9bbd3130",
   "metadata": {},
   "source": [
    "# 2. EDA (exploratory data analysis)"
   ]
  },
  {
   "cell_type": "code",
   "execution_count": 11,
   "id": "cf251ca5",
   "metadata": {},
   "outputs": [
    {
     "data": {
      "text/html": [
       "<div>\n",
       "<style scoped>\n",
       "    .dataframe tbody tr th:only-of-type {\n",
       "        vertical-align: middle;\n",
       "    }\n",
       "\n",
       "    .dataframe tbody tr th {\n",
       "        vertical-align: top;\n",
       "    }\n",
       "\n",
       "    .dataframe thead th {\n",
       "        text-align: right;\n",
       "    }\n",
       "</style>\n",
       "<table border=\"1\" class=\"dataframe\">\n",
       "  <thead>\n",
       "    <tr style=\"text-align: right;\">\n",
       "      <th></th>\n",
       "      <th>person_age</th>\n",
       "      <th>person_income</th>\n",
       "      <th>person_emp_length</th>\n",
       "      <th>loan_amnt</th>\n",
       "      <th>loan_int_rate</th>\n",
       "      <th>loan_status</th>\n",
       "      <th>loan_percent_income</th>\n",
       "      <th>cb_person_cred_hist_length</th>\n",
       "    </tr>\n",
       "  </thead>\n",
       "  <tbody>\n",
       "    <tr>\n",
       "      <th>count</th>\n",
       "      <td>32581.000000</td>\n",
       "      <td>3.258100e+04</td>\n",
       "      <td>31686.000000</td>\n",
       "      <td>32581.000000</td>\n",
       "      <td>29465.000000</td>\n",
       "      <td>32581.000000</td>\n",
       "      <td>32581.000000</td>\n",
       "      <td>32581.000000</td>\n",
       "    </tr>\n",
       "    <tr>\n",
       "      <th>mean</th>\n",
       "      <td>27.734600</td>\n",
       "      <td>6.607485e+04</td>\n",
       "      <td>4.789686</td>\n",
       "      <td>9589.371106</td>\n",
       "      <td>11.011695</td>\n",
       "      <td>0.218164</td>\n",
       "      <td>0.170203</td>\n",
       "      <td>5.804211</td>\n",
       "    </tr>\n",
       "    <tr>\n",
       "      <th>std</th>\n",
       "      <td>6.348078</td>\n",
       "      <td>6.198312e+04</td>\n",
       "      <td>4.142630</td>\n",
       "      <td>6322.086646</td>\n",
       "      <td>3.240459</td>\n",
       "      <td>0.413006</td>\n",
       "      <td>0.106782</td>\n",
       "      <td>4.055001</td>\n",
       "    </tr>\n",
       "    <tr>\n",
       "      <th>min</th>\n",
       "      <td>20.000000</td>\n",
       "      <td>4.000000e+03</td>\n",
       "      <td>0.000000</td>\n",
       "      <td>500.000000</td>\n",
       "      <td>5.420000</td>\n",
       "      <td>0.000000</td>\n",
       "      <td>0.000000</td>\n",
       "      <td>2.000000</td>\n",
       "    </tr>\n",
       "    <tr>\n",
       "      <th>25%</th>\n",
       "      <td>23.000000</td>\n",
       "      <td>3.850000e+04</td>\n",
       "      <td>2.000000</td>\n",
       "      <td>5000.000000</td>\n",
       "      <td>7.900000</td>\n",
       "      <td>0.000000</td>\n",
       "      <td>0.090000</td>\n",
       "      <td>3.000000</td>\n",
       "    </tr>\n",
       "    <tr>\n",
       "      <th>50%</th>\n",
       "      <td>26.000000</td>\n",
       "      <td>5.500000e+04</td>\n",
       "      <td>4.000000</td>\n",
       "      <td>8000.000000</td>\n",
       "      <td>10.990000</td>\n",
       "      <td>0.000000</td>\n",
       "      <td>0.150000</td>\n",
       "      <td>4.000000</td>\n",
       "    </tr>\n",
       "    <tr>\n",
       "      <th>75%</th>\n",
       "      <td>30.000000</td>\n",
       "      <td>7.920000e+04</td>\n",
       "      <td>7.000000</td>\n",
       "      <td>12200.000000</td>\n",
       "      <td>13.470000</td>\n",
       "      <td>0.000000</td>\n",
       "      <td>0.230000</td>\n",
       "      <td>8.000000</td>\n",
       "    </tr>\n",
       "    <tr>\n",
       "      <th>max</th>\n",
       "      <td>144.000000</td>\n",
       "      <td>6.000000e+06</td>\n",
       "      <td>123.000000</td>\n",
       "      <td>35000.000000</td>\n",
       "      <td>23.220000</td>\n",
       "      <td>1.000000</td>\n",
       "      <td>0.830000</td>\n",
       "      <td>30.000000</td>\n",
       "    </tr>\n",
       "  </tbody>\n",
       "</table>\n",
       "</div>"
      ],
      "text/plain": [
       "         person_age  person_income  person_emp_length     loan_amnt  \\\n",
       "count  32581.000000   3.258100e+04       31686.000000  32581.000000   \n",
       "mean      27.734600   6.607485e+04           4.789686   9589.371106   \n",
       "std        6.348078   6.198312e+04           4.142630   6322.086646   \n",
       "min       20.000000   4.000000e+03           0.000000    500.000000   \n",
       "25%       23.000000   3.850000e+04           2.000000   5000.000000   \n",
       "50%       26.000000   5.500000e+04           4.000000   8000.000000   \n",
       "75%       30.000000   7.920000e+04           7.000000  12200.000000   \n",
       "max      144.000000   6.000000e+06         123.000000  35000.000000   \n",
       "\n",
       "       loan_int_rate   loan_status  loan_percent_income  \\\n",
       "count   29465.000000  32581.000000         32581.000000   \n",
       "mean       11.011695      0.218164             0.170203   \n",
       "std         3.240459      0.413006             0.106782   \n",
       "min         5.420000      0.000000             0.000000   \n",
       "25%         7.900000      0.000000             0.090000   \n",
       "50%        10.990000      0.000000             0.150000   \n",
       "75%        13.470000      0.000000             0.230000   \n",
       "max        23.220000      1.000000             0.830000   \n",
       "\n",
       "       cb_person_cred_hist_length  \n",
       "count                32581.000000  \n",
       "mean                     5.804211  \n",
       "std                      4.055001  \n",
       "min                      2.000000  \n",
       "25%                      3.000000  \n",
       "50%                      4.000000  \n",
       "75%                      8.000000  \n",
       "max                     30.000000  "
      ]
     },
     "execution_count": 11,
     "metadata": {},
     "output_type": "execute_result"
    }
   ],
   "source": [
    "df.describe()"
   ]
  },
  {
   "cell_type": "code",
   "execution_count": 12,
   "id": "7f006f78",
   "metadata": {},
   "outputs": [
    {
     "data": {
      "image/png": "[encoded data removed]",
      "text/plain": [
       "<Figure size 432x288 with 1 Axes>"
      ]
     },
     "metadata": {},
     "output_type": "display_data"
    }
   ],
   "source": [
    "sns.set_theme(style=\"darkgrid\")\n",
    "ax = sns.countplot(x=\"loan_status\", data=df).set_title(\"Class\")"
   ]
  },
  {
   "cell_type": "code",
   "execution_count": 13,
   "id": "1f688e72",
   "metadata": {},
   "outputs": [
    {
     "data": {
      "image/png": "[encoded data removed]",
      "text/plain": [
       "<Figure size 432x288 with 1 Axes>"
      ]
     },
     "metadata": {},
     "output_type": "display_data"
    }
   ],
   "source": [
    "ax = sns.histplot(data=df, x=\"person_age\",bins=20, kde=True).set_title('Histogran Age')"
   ]
  },
  {
   "cell_type": "code",
   "execution_count": 14,
   "id": "6039743b",
   "metadata": {
    "scrolled": true
   },
   "outputs": [
    {
     "data": {
      "image/png": "[encoded data removed]",
      "text/plain": [
       "<Figure size 432x288 with 1 Axes>"
      ]
     },
     "metadata": {},
     "output_type": "display_data"
    }
   ],
   "source": [
    "ax = sns.scatterplot(data=df, x=\"loan_status\", y=\"person_age\").set_title('scatter Age to Status')"
   ]
  },
  {
   "cell_type": "markdown",
   "id": "61b967a4",
   "metadata": {},
   "source": [
    "# 3. Preprocessing"
   ]
  },
  {
   "cell_type": "code",
   "execution_count": 15,
   "id": "8546a529",
   "metadata": {},
   "outputs": [],
   "source": [
    "#remove empty data\n",
    "df.dropna(inplace=True)"
   ]
  },
  {
   "cell_type": "code",
   "execution_count": 16,
   "id": "46375064",
   "metadata": {},
   "outputs": [],
   "source": [
    "#remove duplicate data\n",
    "df.drop_duplicates(inplace=True)"
   ]
  },
  {
   "cell_type": "markdown",
   "id": "cca091a4",
   "metadata": {},
   "source": [
    "<p>Como visto na EDA, acima dos 70 anos não temos exemplos de <b>'bons pagadores'</b> portanto irei retirar esses outliers para não inteferir no modelo.</p>"
   ]
  },
  {
   "cell_type": "code",
   "execution_count": 17,
   "id": "58183af6",
   "metadata": {},
   "outputs": [
    {
     "data": {
      "image/png": "[encoded data removed]",
      "text/plain": [
       "<Figure size 432x288 with 1 Axes>"
      ]
     },
     "metadata": {},
     "output_type": "display_data"
    }
   ],
   "source": [
    "df = df[df['person_age']<=70]\n",
    "ax = sns.scatterplot(data=df, x=\"loan_status\", y=\"person_age\").set_title('scatter Age to Status')"
   ]
  },
  {
   "cell_type": "code",
   "execution_count": 18,
   "id": "80b9522a",
   "metadata": {},
   "outputs": [
    {
     "data": {
      "text/plain": [
       "Index(['person_age', 'person_income', 'person_home_ownership',\n",
       "       'person_emp_length', 'loan_intent', 'loan_grade', 'loan_amnt',\n",
       "       'loan_int_rate', 'loan_status', 'loan_percent_income',\n",
       "       'cb_person_default_on_file', 'cb_person_cred_hist_length'],\n",
       "      dtype='object')"
      ]
     },
     "execution_count": 18,
     "metadata": {},
     "output_type": "execute_result"
    }
   ],
   "source": [
    "df.columns"
   ]
  },
  {
   "cell_type": "markdown",
   "id": "b59a86e4",
   "metadata": {},
   "source": [
    "# 4. Modeling the data"
   ]
  },
  {
   "cell_type": "code",
   "execution_count": 19,
   "id": "8ad22c41",
   "metadata": {},
   "outputs": [],
   "source": [
    "#Predictor columns\n",
    "x_df = df[['person_age', \n",
    "           'person_income', \n",
    "           'person_home_ownership',\n",
    "           'person_emp_length',\n",
    "           'loan_intent', \n",
    "           'loan_grade', \n",
    "           'loan_amnt',\n",
    "           'loan_int_rate', \n",
    "           'loan_percent_income',\n",
    "           'cb_person_default_on_file', \n",
    "           'cb_person_cred_hist_length']]"
   ]
  },
  {
   "cell_type": "code",
   "execution_count": 20,
   "id": "1a61e947",
   "metadata": {},
   "outputs": [],
   "source": [
    "#Target class\n",
    "y_df = df[['loan_status']]"
   ]
  },
  {
   "cell_type": "markdown",
   "id": "c6ecf3d5",
   "metadata": {},
   "source": [
    "### 4.1 - Processing categorical columns"
   ]
  },
  {
   "cell_type": "code",
   "execution_count": 21,
   "id": "8c61bd10",
   "metadata": {},
   "outputs": [],
   "source": [
    "#Processing categorical columns\n",
    "columns =x_df[['person_home_ownership',\n",
    "           'loan_intent', \n",
    "           'loan_grade', \n",
    "           'loan_int_rate', \n",
    "           'loan_percent_income',\n",
    "           'cb_person_default_on_file']].columns\n",
    "\n",
    "label_encoder = LabelEncoder()\n",
    "\n",
    "for column in columns:\n",
    "    data_column = label_encoder.fit_transform(x_df[column])\n",
    "    x_df[f'encoder_{column}'] = data_column\n",
    "\n",
    "x_df.drop(columns=columns, inplace=True)"
   ]
  },
  {
   "cell_type": "markdown",
   "id": "7937b068",
   "metadata": {},
   "source": [
    "### 4.2 Undersampling"
   ]
  },
  {
   "cell_type": "code",
   "execution_count": 22,
   "id": "c5a6bda5",
   "metadata": {},
   "outputs": [],
   "source": [
    "#Undersampling\n",
    "under_sampler = RandomUnderSampler()\n",
    "x_undersampling, y_undersampling = under_sampler.fit_resample(x_df, y_df)"
   ]
  },
  {
   "cell_type": "markdown",
   "id": "ce0308e8",
   "metadata": {},
   "source": [
    "### 4.3 Oversampling"
   ]
  },
  {
   "cell_type": "code",
   "execution_count": 23,
   "id": "7e503d49",
   "metadata": {},
   "outputs": [],
   "source": [
    "#Oversampling\n",
    "smt = SMOTE()\n",
    "x_oversampling, y_oversampling = smt.fit_resample(x_df, y_df)\n"
   ]
  },
  {
   "cell_type": "markdown",
   "id": "d95b6d9a",
   "metadata": {},
   "source": [
    "### 4.4 One Hot Encoder"
   ]
  },
  {
   "cell_type": "code",
   "execution_count": 24,
   "id": "e85dc6f1",
   "metadata": {},
   "outputs": [],
   "source": [
    "#One Hot Encoder\n",
    "\n",
    "onehotencoder = ColumnTransformer(\n",
    "    transformers =[('Onehot', \n",
    "                    OneHotEncoder(),\n",
    "                    [5,6,7,8,9,10])],\n",
    "    remainder='passthrough')\n",
    "x_df = onehotencoder.fit_transform(x_df).toarray()\n",
    "\n",
    "#Undersampling_\n",
    "onehotencoder = ColumnTransformer(\n",
    "    transformers =[('Onehot', \n",
    "                    OneHotEncoder(),\n",
    "                    [5,6,7,8,9,10])],\n",
    "    remainder='passthrough')\n",
    "x_undersampling = onehotencoder.fit_transform(x_undersampling).toarray()  \n",
    "\n",
    "#Oversampling_\n",
    "onehotencoder = ColumnTransformer(\n",
    "    transformers =[('Onehot', \n",
    "                    OneHotEncoder(),\n",
    "                    [5,6,7,8,9,10])],\n",
    "    remainder='passthrough')\n",
    "x_oversampling = onehotencoder.fit_transform(x_oversampling).toarray()  \n"
   ]
  },
  {
   "cell_type": "markdown",
   "id": "a4140dc0",
   "metadata": {},
   "source": [
    "### 4.5 - Scaler"
   ]
  },
  {
   "cell_type": "code",
   "execution_count": 25,
   "id": "0b90663e",
   "metadata": {},
   "outputs": [],
   "source": [
    "# scaler standart\n",
    "scaler_xdf = StandardScaler()Scaler\n",
    "x_df = scaler_xdf.fit_transform(x_df)\n",
    "x_undersampling = scaler_xdf.fit_transform(x_undersampling)\n",
    "x_oversampling = scaler_xdf.fit_transform(x_oversampling)\n"
   ]
  },
  {
   "cell_type": "markdown",
   "id": "cebeb6ea",
   "metadata": {},
   "source": [
    "# 5. Logistic regression"
   ]
  },
  {
   "cell_type": "code",
   "execution_count": 26,
   "id": "9f0cad67",
   "metadata": {},
   "outputs": [],
   "source": [
    "# Split unbaleced\n",
    "x_train, x_test, y_train, y_test = train_test_split(x_df, y_df,test_size = 0.25, \n",
    "                                                                 random_state=0)\n",
    "\n",
    "#Split undersampling\n",
    "x_train_under, x_test_under, y_train_under, y_test_under = train_test_split(x_undersampling,\n",
    "                                                                            y_undersampling,\n",
    "                                                                            test_size = 0.25, \n",
    "                                                                            random_state=0)\n",
    "#Split oversampling\n",
    "x_train_over, x_test_over, y_train_over, y_test_over = train_test_split(x_oversampling, \n",
    "                                                                            y_oversampling,\n",
    "                                                                            test_size = 0.25, \n",
    "                                                                            random_state=0)"
   ]
  },
  {
   "cell_type": "code",
   "execution_count": 27,
   "id": "2f026f43",
   "metadata": {},
   "outputs": [
    {
     "data": {
      "text/plain": [
       "LogisticRegression()"
      ]
     },
     "execution_count": 27,
     "metadata": {},
     "output_type": "execute_result"
    }
   ],
   "source": [
    "#Logistic regression\n",
    "lg = LogisticRegression()\n",
    "lg_under = LogisticRegression()\n",
    "lg_over = LogisticRegression()\n",
    "\n",
    "lg.fit(x_train, y_train)\n",
    "lg_under.fit(x_train_under,y_train_under)\n",
    "lg_over.fit(x_train_over, y_train_over)"
   ]
  },
  {
   "cell_type": "code",
   "execution_count": 28,
   "id": "b85e7996",
   "metadata": {},
   "outputs": [],
   "source": [
    "predict = lg.predict(x_test)\n",
    "predict_under = lg_under.predict(x_test_under)\n",
    "predict_over = lg_over.predict(x_test_over)"
   ]
  },
  {
   "cell_type": "markdown",
   "id": "5e93d4e5",
   "metadata": {},
   "source": [
    "# 6. Results"
   ]
  },
  {
   "cell_type": "code",
   "execution_count": 36,
   "id": "7d4a9d8f",
   "metadata": {},
   "outputs": [
    {
     "name": "stdout",
     "output_type": "stream",
     "text": [
      "Accuracy Score:\n",
      "Unbaleced 0.8801066966165941\n",
      "Oversampling 0.8653156384505022\n",
      "Undersampling 0.7925016160310278\n"
     ]
    }
   ],
   "source": [
    "print('Accuracy Score:')\n",
    "print('Unbaleced', accuracy_score(y_test, predict))\n",
    "print('Oversampling', accuracy_score(y_test_over, predict_over))\n",
    "print('Undersampling', accuracy_score(y_test_under, predict_under))"
   ]
  },
  {
   "cell_type": "markdown",
   "id": "6fb57296",
   "metadata": {},
   "source": [
    "## 6.1 Unbalanced class"
   ]
  },
  {
   "cell_type": "code",
   "execution_count": 30,
   "id": "d23b47d9",
   "metadata": {},
   "outputs": [
    {
     "name": "stdout",
     "output_type": "stream",
     "text": [
      "              precision    recall  f1-score   support\n",
      "\n",
      "           0       0.90      0.95      0.93      5537\n",
      "           1       0.79      0.63      0.70      1586\n",
      "\n",
      "    accuracy                           0.88      7123\n",
      "   macro avg       0.85      0.79      0.81      7123\n",
      "weighted avg       0.88      0.88      0.87      7123\n",
      "\n"
     ]
    },
    {
     "data": {
      "image/png": "[encoded data removed]",
      "text/plain": [
       "<Figure size 720x504 with 2 Axes>"
      ]
     },
     "metadata": {},
     "output_type": "display_data"
    }
   ],
   "source": [
    "#Resultado da Classificação\n",
    "\n",
    "print(classification_report(y_test, predict))\n",
    "cf_matrix = confusion_matrix(y_test, predict)\n",
    "\n",
    "\n",
    "plt.figure(figsize = (10,7))\n",
    "\n",
    "group_names = ['(Verdadeiro) Pagam','(Falso) Não Pagadores','(Falso) Pagadores','(Verdadeiro) Não pagadores']\n",
    "group_counts = ['{0:0.0f}'.format(value) for value in\n",
    "                cf_matrix.flatten()]\n",
    "group_percentages = ['{0:.2%}'.format(value) for value in\n",
    "                     cf_matrix.flatten()/np.sum(cf_matrix)]\n",
    "labels = [f'{v1}\\n{v2}\\n{v3}' for v1, v2, v3 in\n",
    "          zip(group_names,group_counts,group_percentages)]\n",
    "labels = np.asarray(labels).reshape(2,2)\n",
    "\n",
    "sns_plot = sns.heatmap(cf_matrix, annot=labels, fmt='', cmap='Blues')\n",
    "#plt.savefig('img/confusion_matrix.png', dpi=300)"
   ]
  },
  {
   "cell_type": "markdown",
   "id": "ba3eda49",
   "metadata": {},
   "source": [
    "## 6.2 Balanced class with Oversampling"
   ]
  },
  {
   "cell_type": "code",
   "execution_count": 31,
   "id": "182f7484",
   "metadata": {},
   "outputs": [
    {
     "name": "stdout",
     "output_type": "stream",
     "text": [
      "              precision    recall  f1-score   support\n",
      "\n",
      "           0       0.84      0.89      0.87      5548\n",
      "           1       0.89      0.84      0.86      5604\n",
      "\n",
      "    accuracy                           0.87     11152\n",
      "   macro avg       0.87      0.87      0.87     11152\n",
      "weighted avg       0.87      0.87      0.87     11152\n",
      "\n"
     ]
    },
    {
     "data": {
      "image/png": "[encoded data removed]",
      "text/plain": [
       "<Figure size 720x504 with 2 Axes>"
      ]
     },
     "metadata": {},
     "output_type": "display_data"
    }
   ],
   "source": [
    "#Resultado da Classificação\n",
    "\n",
    "print(classification_report(y_test_over, predict_over))\n",
    "cf_matrix = confusion_matrix(y_test_over, predict_over)\n",
    "\n",
    "\n",
    "plt.figure(figsize = (10,7))\n",
    "\n",
    "group_names = ['(Verdadeiro) Pagam','(Falso) Não Pagadores','(Falso) Pagadores','(Verdadeiro) Não pagadores']\n",
    "group_counts = ['{0:0.0f}'.format(value) for value in\n",
    "                cf_matrix.flatten()]\n",
    "group_percentages = ['{0:.2%}'.format(value) for value in\n",
    "                     cf_matrix.flatten()/np.sum(cf_matrix)]\n",
    "labels = [f'{v1}\\n{v2}\\n{v3}' for v1, v2, v3 in\n",
    "          zip(group_names,group_counts,group_percentages)]\n",
    "labels = np.asarray(labels).reshape(2,2)\n",
    "\n",
    "sns_plot = sns.heatmap(cf_matrix, annot=labels, fmt='', cmap='Blues')\n",
    "#plt.savefig('img/confusion_matrix.png', dpi=300)"
   ]
  },
  {
   "cell_type": "markdown",
   "id": "2303ed81",
   "metadata": {},
   "source": [
    "## 6.3 Balanced class with undersampling"
   ]
  },
  {
   "cell_type": "code",
   "execution_count": 32,
   "id": "1c993050",
   "metadata": {},
   "outputs": [
    {
     "name": "stdout",
     "output_type": "stream",
     "text": [
      "              precision    recall  f1-score   support\n",
      "\n",
      "           0       0.76      0.84      0.80      1526\n",
      "           1       0.82      0.75      0.79      1568\n",
      "\n",
      "    accuracy                           0.79      3094\n",
      "   macro avg       0.79      0.79      0.79      3094\n",
      "weighted avg       0.80      0.79      0.79      3094\n",
      "\n"
     ]
    },
    {
     "data": {
      "image/png": "[encoded data removed]",
      "text/plain": [
       "<Figure size 720x504 with 2 Axes>"
      ]
     },
     "metadata": {},
     "output_type": "display_data"
    }
   ],
   "source": [
    "#Resultado da Classificação\n",
    "\n",
    "print(classification_report(y_test_under, predict_under))\n",
    "cf_matrix = confusion_matrix(y_test_under, predict_under)\n",
    "\n",
    "\n",
    "plt.figure(figsize = (10,7))\n",
    "\n",
    "group_names = ['(Verdadeiro) Pagam','(Falso) Não Pagadores','(Falso) Pagadores','(Verdadeiro) Não pagadores']\n",
    "group_counts = ['{0:0.0f}'.format(value) for value in\n",
    "                cf_matrix.flatten()]\n",
    "group_percentages = ['{0:.2%}'.format(value) for value in\n",
    "                     cf_matrix.flatten()/np.sum(cf_matrix)]\n",
    "labels = [f'{v1}\\n{v2}\\n{v3}' for v1, v2, v3 in\n",
    "          zip(group_names,group_counts,group_percentages)]\n",
    "labels = np.asarray(labels).reshape(2,2)\n",
    "\n",
    "sns_plot = sns.heatmap(cf_matrix, annot=labels, fmt='', cmap='Blues')\n",
    "#plt.savefig('img/confusion_matrix.png', dpi=300)"
   ]
  },
  {
   "cell_type": "markdown",
   "id": "fd968990",
   "metadata": {},
   "source": [
    "# 7. Save the models"
   ]
  },
  {
   "cell_type": "code",
   "execution_count": 33,
   "id": "6213582c",
   "metadata": {},
   "outputs": [],
   "source": [
    "with open('archive/credit.pkl', mode='wb') as f:\n",
    "    pickle.dump([x_train, x_test, y_train, y_test], f)"
   ]
  },
  {
   "cell_type": "code",
   "execution_count": 34,
   "id": "9480b54e",
   "metadata": {},
   "outputs": [],
   "source": [
    "with open('archive/modelNaiveBayes.pkl', mode='wb') as f:\n",
    "    pickle.dump([lg], f)"
   ]
  },
  {
   "cell_type": "markdown",
   "id": "fa4d2b21",
   "metadata": {},
   "source": [
    "# 8. Conclusion"
   ]
  },
  {
   "cell_type": "markdown",
   "id": "55adb075",
   "metadata": {},
   "source": []
  }
 ],
 "metadata": {
  "kernelspec": {
   "display_name": "Python 3 (ipykernel)",
   "language": "python",
   "name": "python3"
  },
  "language_info": {
   "codemirror_mode": {
    "name": "ipython",
    "version": 3
   },
   "file_extension": ".py",
   "mimetype": "text/x-python",
   "name": "python",
   "nbconvert_exporter": "python",
   "pygments_lexer": "ipython3",
   "version": "3.8.5"
  }
 },
 "nbformat": 4,
 "nbformat_minor": 5
}
